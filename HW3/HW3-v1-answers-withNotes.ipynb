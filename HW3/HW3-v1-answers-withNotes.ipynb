{
 "cells": [
  {
   "cell_type": "markdown",
   "metadata": {
    "deletable": true,
    "editable": true
   },
   "source": [
    "# HW3"
   ]
  },
  {
   "cell_type": "markdown",
   "metadata": {
    "deletable": true,
    "editable": true
   },
   "source": [
    "<b>Instructions:</b> Write your answers in the empty code cells below."
   ]
  },
  {
   "cell_type": "markdown",
   "metadata": {
    "deletable": true,
    "editable": true
   },
   "source": [
    "<b>Penalties:</b> You will incur penalties if:\n",
    "<ul>\n",
    "<li>Your code is wrong</li>\n",
    "<li>Your code does not work on different data</li>\n",
    "<li>You use for loops (unless explicitly permitted)</li>\n",
    "</ul>"
   ]
  },
  {
   "cell_type": "markdown",
   "metadata": {
    "deletable": true,
    "editable": true
   },
   "source": [
    "## Problem"
   ]
  },
  {
   "cell_type": "markdown",
   "metadata": {
    "deletable": true,
    "editable": true
   },
   "source": [
    "Start by executing the following code, which creates a Series object <b>stock</b> of share prices of Nvidia. "
   ]
  },
  {
   "cell_type": "code",
   "execution_count": 1,
   "metadata": {
    "collapsed": true,
    "deletable": true,
    "editable": true
   },
   "outputs": [],
   "source": [
    "import pandas as pd\n",
    "import numpy as np\n",
    "data = pd.read_csv('NVDA.csv',index_col=0)\n",
    "data.index=data.index.astype(np.datetime64)\n",
    "stock = data['Close']"
   ]
  },
  {
   "cell_type": "code",
   "execution_count": 2,
   "metadata": {
    "collapsed": true,
    "deletable": true,
    "editable": true
   },
   "outputs": [],
   "source": [
    "# print all the outputs in a cell\n",
    "from IPython.core.interactiveshell import InteractiveShell\n",
    "InteractiveShell.ast_node_interactivity = \"all\""
   ]
  },
  {
   "cell_type": "code",
   "execution_count": 3,
   "metadata": {
    "collapsed": false,
    "deletable": true,
    "editable": true
   },
   "outputs": [
    {
     "name": "stdout",
     "output_type": "stream",
     "text": [
      "Populating the interactive namespace from numpy and matplotlib\n"
     ]
    },
    {
     "data": {
      "text/plain": [
       "<matplotlib.axes._subplots.AxesSubplot at 0x110dbfe48>"
      ]
     },
     "execution_count": 3,
     "metadata": {},
     "output_type": "execute_result"
    },
    {
     "data": {
      "image/png": "[encoded data removed]",
      "text/plain": [
       "<Figure size 432x288 with 1 Axes>"
      ]
     },
     "metadata": {},
     "output_type": "display_data"
    }
   ],
   "source": [
    "%pylab inline\n",
    "stock.plot()"
   ]
  },
  {
   "cell_type": "code",
   "execution_count": 4,
   "metadata": {
    "collapsed": false,
    "deletable": true,
    "editable": true
   },
   "outputs": [
    {
     "data": {
      "text/plain": [
       "Date\n",
       "1999-01-22    1.640625\n",
       "1999-01-25    1.812500\n",
       "1999-01-26    1.671875\n",
       "1999-01-27    1.666667\n",
       "1999-01-28    1.661458\n",
       "Name: Close, dtype: float64"
      ]
     },
     "execution_count": 4,
     "metadata": {},
     "output_type": "execute_result"
    },
    {
     "data": {
      "text/plain": [
       "Date\n",
       "2019-01-23    149.289993\n",
       "2019-01-24    157.839996\n",
       "2019-01-25    160.149994\n",
       "2019-01-28    138.009995\n",
       "2019-01-29    131.600006\n",
       "Name: Close, dtype: float64"
      ]
     },
     "execution_count": 4,
     "metadata": {},
     "output_type": "execute_result"
    }
   ],
   "source": [
    "stock.head()\n",
    "stock.tail()"
   ]
  },
  {
   "cell_type": "markdown",
   "metadata": {
    "deletable": true,
    "editable": true
   },
   "source": [
    "Use the Series <i>stock</i> to answer the following questions."
   ]
  },
  {
   "cell_type": "markdown",
   "metadata": {
    "deletable": true,
    "editable": true
   },
   "source": [
    "## Question 1"
   ]
  },
  {
   "cell_type": "markdown",
   "metadata": {
    "deletable": true,
    "editable": true
   },
   "source": [
    "### Q1.1, When is the first date this stock close at more than 130 dollars? (pick the closest date in Camino)"
   ]
  },
  {
   "cell_type": "code",
   "execution_count": 5,
   "metadata": {
    "collapsed": false,
    "deletable": true,
    "editable": true
   },
   "outputs": [
    {
     "data": {
      "text/plain": [
       "Timestamp('2017-05-15 00:00:00')"
      ]
     },
     "execution_count": 5,
     "metadata": {},
     "output_type": "execute_result"
    }
   ],
   "source": [
    "stock[stock.values > 130].index[0]"
   ]
  },
  {
   "cell_type": "markdown",
   "metadata": {
    "deletable": true,
    "editable": true
   },
   "source": [
    "### Q1.2, After stock price hit 130 dollar, how many trading days it took to reach the historical high? (pick the closest number of days in Camino)"
   ]
  },
  {
   "cell_type": "code",
   "execution_count": 6,
   "metadata": {
    "collapsed": false,
    "deletable": true,
    "editable": true
   },
   "outputs": [
    {
     "data": {
      "text/plain": [
       "Timestamp('2017-05-15 00:00:00')"
      ]
     },
     "execution_count": 6,
     "metadata": {},
     "output_type": "execute_result"
    }
   ],
   "source": [
    "FirstDay_hit130 = stock[stock.values >= 130].index[0]\n",
    "FirstDay_hit130"
   ]
  },
  {
   "cell_type": "code",
   "execution_count": 7,
   "metadata": {
    "collapsed": false,
    "deletable": true,
    "editable": true
   },
   "outputs": [
    {
     "data": {
      "text/plain": [
       "Timestamp('2018-10-01 00:00:00')"
      ]
     },
     "execution_count": 7,
     "metadata": {},
     "output_type": "execute_result"
    }
   ],
   "source": [
    "Date_hit_max = stock.nlargest(1).index[0]\n",
    "Date_hit_max"
   ]
  },
  {
   "cell_type": "code",
   "execution_count": 8,
   "metadata": {
    "collapsed": false,
    "deletable": true,
    "editable": true
   },
   "outputs": [
    {
     "data": {
      "text/plain": [
       "Date\n",
       "2017-05-15    134.309998\n",
       "Name: Close, dtype: float64"
      ]
     },
     "execution_count": 8,
     "metadata": {},
     "output_type": "execute_result"
    },
    {
     "data": {
      "text/plain": [
       "Date\n",
       "2018-10-01    289.359985\n",
       "Name: Close, dtype: float64"
      ]
     },
     "execution_count": 8,
     "metadata": {},
     "output_type": "execute_result"
    }
   ],
   "source": [
    "stock_130_max = stock[FirstDay_hit130 : Date_hit_max]\n",
    "stock_130_max.head(1)\n",
    "stock_130_max.tail(1)"
   ]
  },
  {
   "cell_type": "code",
   "execution_count": 9,
   "metadata": {
    "collapsed": false,
    "deletable": true,
    "editable": true
   },
   "outputs": [
    {
     "data": {
      "text/plain": [
       "349"
      ]
     },
     "execution_count": 9,
     "metadata": {},
     "output_type": "execute_result"
    }
   ],
   "source": [
    "len(stock_130_max)"
   ]
  },
  {
   "cell_type": "markdown",
   "metadata": {
    "deletable": true,
    "editable": true
   },
   "source": [
    "### Question 2"
   ]
  },
  {
   "cell_type": "markdown",
   "metadata": {
    "deletable": true,
    "editable": true
   },
   "source": [
    "### Find the top 5 largest one-day % gain (in % compared to the closing cost of the previous trading day). Make sure that your output is a Series object that shows both date and the % drop. (pick the date closest to the day with the largest gain ratio in Camino)"
   ]
  },
  {
   "cell_type": "code",
   "execution_count": 10,
   "metadata": {
    "collapsed": false,
    "deletable": true,
    "editable": true
   },
   "outputs": [
    {
     "data": {
      "text/plain": [
       "Date\n",
       "1999-01-22    1.640625\n",
       "1999-01-25    1.812500\n",
       "1999-01-26    1.671875\n",
       "1999-01-27    1.666667\n",
       "1999-01-28    1.661458\n",
       "Name: Close, dtype: float64"
      ]
     },
     "execution_count": 10,
     "metadata": {},
     "output_type": "execute_result"
    },
    {
     "data": {
      "text/plain": [
       "Date\n",
       "1999-01-22    1.812500\n",
       "1999-01-25    1.671875\n",
       "1999-01-26    1.666667\n",
       "1999-01-27    1.661458\n",
       "1999-01-28    1.583333\n",
       "Name: Close, dtype: float64"
      ]
     },
     "execution_count": 10,
     "metadata": {},
     "output_type": "execute_result"
    }
   ],
   "source": [
    "stock.head()\n",
    "stock.shift(-1).head()"
   ]
  },
  {
   "cell_type": "code",
   "execution_count": 11,
   "metadata": {
    "collapsed": false,
    "deletable": true,
    "editable": true
   },
   "outputs": [
    {
     "data": {
      "text/plain": [
       "Date\n",
       "2000-03-06    42.414523\n",
       "2003-05-08    33.063514\n",
       "2001-01-02    30.688937\n",
       "2016-11-10    29.806706\n",
       "2000-03-10    26.483055\n",
       "Name: Close, dtype: float64"
      ]
     },
     "execution_count": 11,
     "metadata": {},
     "output_type": "execute_result"
    }
   ],
   "source": [
    "((stock.shift(-1) - stock)/stock*100).nlargest()"
   ]
  },
  {
   "cell_type": "markdown",
   "metadata": {
    "deletable": true,
    "editable": true
   },
   "source": [
    "## Question 3"
   ]
  },
  {
   "cell_type": "markdown",
   "metadata": {
    "deletable": true,
    "editable": true
   },
   "source": [
    "###  With following investment strategy: buy on day 1, sell on day 3. If based on this strategy, what's the most dollars amount you can lose in one trading?  Also report the buying and selling date for that particular trading. ( pick the closest dollar amount it dropped in Camino)"
   ]
  },
  {
   "cell_type": "code",
   "execution_count": 12,
   "metadata": {
    "collapsed": false,
    "deletable": true,
    "editable": true
   },
   "outputs": [
    {
     "data": {
      "text/plain": [
       "Date\n",
       "1999-01-22    1.640625\n",
       "1999-01-25    1.812500\n",
       "1999-01-26    1.671875\n",
       "1999-01-27    1.666667\n",
       "1999-01-28    1.661458\n",
       "Name: Close, dtype: float64"
      ]
     },
     "execution_count": 12,
     "metadata": {},
     "output_type": "execute_result"
    },
    {
     "data": {
      "text/plain": [
       "Date\n",
       "1999-01-22    1.671875\n",
       "1999-01-25    1.666667\n",
       "1999-01-26    1.661458\n",
       "1999-01-27    1.583333\n",
       "1999-01-28    1.614583\n",
       "Name: Close, dtype: float64"
      ]
     },
     "execution_count": 12,
     "metadata": {},
     "output_type": "execute_result"
    }
   ],
   "source": [
    "stock.head()\n",
    "stock.shift(-2).head()"
   ]
  },
  {
   "cell_type": "code",
   "execution_count": 13,
   "metadata": {
    "collapsed": false,
    "deletable": true,
    "editable": true
   },
   "outputs": [
    {
     "data": {
      "text/plain": [
       "Date\n",
       "2018-11-15    57.690002\n",
       "2018-11-14    32.760009\n",
       "2018-10-22    31.809997\n",
       "2018-10-09    30.410004\n",
       "2019-01-25    28.549988\n",
       "Name: Close, dtype: float64"
      ]
     },
     "execution_count": 13,
     "metadata": {},
     "output_type": "execute_result"
    }
   ],
   "source": [
    "(stock - stock.shift(-2)).nlargest()"
   ]
  },
  {
   "cell_type": "code",
   "execution_count": 14,
   "metadata": {
    "collapsed": false,
    "deletable": true,
    "editable": true
   },
   "outputs": [
    {
     "data": {
      "text/plain": [
       "57.69000199999999"
      ]
     },
     "execution_count": 14,
     "metadata": {},
     "output_type": "execute_result"
    }
   ],
   "source": [
    "ThreeDays_drop_max = (stock - stock.shift(-2)).nlargest(1).values[0]\n",
    "ThreeDays_drop_max"
   ]
  },
  {
   "cell_type": "code",
   "execution_count": 15,
   "metadata": {
    "collapsed": false,
    "deletable": true,
    "editable": true
   },
   "outputs": [
    {
     "data": {
      "text/plain": [
       "Timestamp('2018-11-15 00:00:00')"
      ]
     },
     "execution_count": 15,
     "metadata": {},
     "output_type": "execute_result"
    }
   ],
   "source": [
    "FirstDay = (stock - stock.shift(-2)).nlargest(1).index[0]\n",
    "FirstDay"
   ]
  },
  {
   "cell_type": "code",
   "execution_count": 16,
   "metadata": {
    "collapsed": false,
    "deletable": true,
    "editable": true
   },
   "outputs": [
    {
     "data": {
      "text/plain": [
       "Date\n",
       "2018-11-15    202.389999\n",
       "2018-11-16    164.429993\n",
       "2018-11-19    144.699997\n",
       "2018-11-20    149.080002\n",
       "2018-11-21    144.710007\n",
       "Name: Close, dtype: float64"
      ]
     },
     "execution_count": 16,
     "metadata": {},
     "output_type": "execute_result"
    }
   ],
   "source": [
    "stock[stock.index >= FirstDay].head()"
   ]
  },
  {
   "cell_type": "code",
   "execution_count": 17,
   "metadata": {
    "collapsed": false,
    "deletable": true,
    "editable": true
   },
   "outputs": [
    {
     "data": {
      "text/plain": [
       "Timestamp('2018-11-19 00:00:00')"
      ]
     },
     "execution_count": 17,
     "metadata": {},
     "output_type": "execute_result"
    }
   ],
   "source": [
    "ThirdDay = stock[stock.index >= FirstDay].index[2]\n",
    "ThirdDay"
   ]
  },
  {
   "cell_type": "code",
   "execution_count": 18,
   "metadata": {
    "collapsed": false,
    "deletable": true,
    "editable": true
   },
   "outputs": [
    {
     "name": "stdout",
     "output_type": "stream",
     "text": [
      "The beginning date which has the largest 3 days dollar amount drop is 2018-11-15 00:00:00\n",
      "The ending date is 2018-11-19 00:00:00\n",
      "Total dollar amount it dropped is $57.69000199999999\n"
     ]
    }
   ],
   "source": [
    "print(\"The beginning date which has the largest 3 days dollar amount drop is \" + str(FirstDay))\n",
    "print(\"The ending date is \" + str(ThirdDay) )\n",
    "print(\"Total dollar amount it dropped is $\" + str(ThreeDays_drop_max) )"
   ]
  },
  {
   "cell_type": "markdown",
   "metadata": {
    "deletable": true,
    "editable": true
   },
   "source": [
    "Manually verify the stock price close to those 3 days"
   ]
  },
  {
   "cell_type": "code",
   "execution_count": 19,
   "metadata": {
    "collapsed": false,
    "deletable": true,
    "editable": true
   },
   "outputs": [
    {
     "data": {
      "text/plain": [
       "Date\n",
       "2018-11-13    199.309998\n",
       "2018-11-14    197.190002\n",
       "2018-11-15    202.389999\n",
       "2018-11-16    164.429993\n",
       "2018-11-19    144.699997\n",
       "2018-11-20    149.080002\n",
       "Name: Close, dtype: float64"
      ]
     },
     "execution_count": 19,
     "metadata": {},
     "output_type": "execute_result"
    }
   ],
   "source": [
    "stock['2018-11-13':'2018-11-20']"
   ]
  },
  {
   "cell_type": "markdown",
   "metadata": {
    "deletable": true,
    "editable": true
   },
   "source": [
    "## Question 4"
   ]
  },
  {
   "cell_type": "markdown",
   "metadata": {
    "deletable": true,
    "editable": true
   },
   "source": [
    "### In which days did we observe that the price has increased of more than 60% within the 9 preceding trading sessions? Report your result as a Series (d,gain) where *d* is the trading session date when the increase was observed and *gain* is the maximum percentage gain (%) observed over the 9 days preceding session(today compare with previous 9 trading days).\n",
    "#### *Hint:* use a **rolling** minimum (pick the closest date that has the highest gain ratio in Camino) "
   ]
  },
  {
   "cell_type": "markdown",
   "metadata": {
    "deletable": true,
    "editable": true
   },
   "source": [
    "<div class=\"alert alert-block alert-success\"> Solution Note </div>"
   ]
  },
  {
   "cell_type": "markdown",
   "metadata": {
    "deletable": true,
    "editable": true
   },
   "source": [
    "**Solution Note:** Today + 9 more days -> use rolling(10).  Use stock.rolling(10).min() to find the lowest point within that 10 days windows(rol_min). Price increase is -> (everyday price - rol_min), for increase %, need to divided based on the lowest price so it is (everyday price - rol_min)/rol_min. \n",
    "\n",
    "Create a boolean mask which satisfy the 60% increase, then bring the boolean mask back to the increase % formula."
   ]
  },
  {
   "cell_type": "code",
   "execution_count": 20,
   "metadata": {
    "collapsed": false,
    "deletable": true,
    "editable": true
   },
   "outputs": [
    {
     "data": {
      "text/plain": [
       "Date\n",
       "1999-01-22    1.640625\n",
       "1999-01-25    1.812500\n",
       "1999-01-26    1.671875\n",
       "1999-01-27    1.666667\n",
       "1999-01-28    1.661458\n",
       "1999-01-29    1.583333\n",
       "1999-02-01    1.614583\n",
       "1999-02-02    1.489583\n",
       "1999-02-03    1.520833\n",
       "1999-02-04    1.604167\n",
       "Name: Close, dtype: float64"
      ]
     },
     "execution_count": 20,
     "metadata": {},
     "output_type": "execute_result"
    },
    {
     "data": {
      "text/plain": [
       "Date\n",
       "1999-01-22         NaN\n",
       "1999-01-25         NaN\n",
       "1999-01-26         NaN\n",
       "1999-01-27         NaN\n",
       "1999-01-28         NaN\n",
       "1999-01-29         NaN\n",
       "1999-02-01         NaN\n",
       "1999-02-02         NaN\n",
       "1999-02-03         NaN\n",
       "1999-02-04    1.489583\n",
       "Name: Close, dtype: float64"
      ]
     },
     "execution_count": 20,
     "metadata": {},
     "output_type": "execute_result"
    }
   ],
   "source": [
    "stock.head(10)\n",
    "stock.rolling(10).min().head(10)"
   ]
  },
  {
   "cell_type": "markdown",
   "metadata": {
    "deletable": true,
    "editable": true
   },
   "source": [
    "1999-02-04 price increase in rolling(10).min() window is  (1.604167- 1.489583)/1.489583 = 0.0769  (7.69%)"
   ]
  },
  {
   "cell_type": "code",
   "execution_count": 21,
   "metadata": {
    "collapsed": true,
    "deletable": true,
    "editable": true
   },
   "outputs": [],
   "source": [
    "rol_min=stock.rolling(10).min()"
   ]
  },
  {
   "cell_type": "code",
   "execution_count": 22,
   "metadata": {
    "collapsed": true,
    "deletable": true,
    "editable": true
   },
   "outputs": [],
   "source": [
    "gain_boolean_mask = ((stock - rol_min)/rol_min) > 0.6"
   ]
  },
  {
   "cell_type": "code",
   "execution_count": 23,
   "metadata": {
    "collapsed": false,
    "deletable": true,
    "editable": true
   },
   "outputs": [
    {
     "data": {
      "text/plain": [
       "13"
      ]
     },
     "execution_count": 23,
     "metadata": {},
     "output_type": "execute_result"
    }
   ],
   "source": [
    "(gain_boolean_mask).sum()"
   ]
  },
  {
   "cell_type": "code",
   "execution_count": 24,
   "metadata": {
    "collapsed": false,
    "deletable": true,
    "editable": true
   },
   "outputs": [
    {
     "data": {
      "text/plain": [
       "Date\n",
       "2000-02-18    3.171875\n",
       "2000-02-22    3.322917\n",
       "2000-02-23    3.406250\n",
       "2000-03-09    4.828125\n",
       "2000-03-10    4.828125\n",
       "2000-03-13    4.828125\n",
       "2000-03-14    4.828125\n",
       "2000-03-15    4.828125\n",
       "2000-03-16    4.875000\n",
       "2000-03-17    4.875000\n",
       "2001-01-11    4.989583\n",
       "2001-10-12    7.960000\n",
       "2001-10-15    7.960000\n",
       "Name: Close, dtype: float64"
      ]
     },
     "execution_count": 24,
     "metadata": {},
     "output_type": "execute_result"
    }
   ],
   "source": [
    "rol_min[gain_boolean_mask]"
   ]
  },
  {
   "cell_type": "code",
   "execution_count": 25,
   "metadata": {
    "collapsed": false,
    "deletable": true,
    "editable": true
   },
   "outputs": [
    {
     "data": {
      "text/plain": [
       "Date\n",
       "2000-02-18     5.614583\n",
       "2000-02-22     5.458333\n",
       "2000-02-23     5.489583\n",
       "2000-03-09     8.358067\n",
       "2000-03-10     9.833333\n",
       "2000-03-13    12.437500\n",
       "2000-03-14     9.177083\n",
       "2000-03-15     8.802083\n",
       "2000-03-16     7.847650\n",
       "2000-03-17     8.322917\n",
       "2001-01-11     8.000000\n",
       "2001-10-12    13.476666\n",
       "2001-10-15    13.416667\n",
       "Name: Close, dtype: float64"
      ]
     },
     "execution_count": 25,
     "metadata": {},
     "output_type": "execute_result"
    }
   ],
   "source": [
    "stock[gain_boolean_mask]"
   ]
  },
  {
   "cell_type": "code",
   "execution_count": 26,
   "metadata": {
    "collapsed": false,
    "deletable": true,
    "editable": true,
    "scrolled": false
   },
   "outputs": [
    {
     "data": {
      "text/plain": [
       "Date\n",
       "2000-02-18     77.011484\n",
       "2000-02-22     64.263296\n",
       "2000-02-23     61.162070\n",
       "2000-03-09     73.112067\n",
       "2000-03-10    103.667739\n",
       "2000-03-13    157.605178\n",
       "2000-03-14     90.075506\n",
       "2000-03-15     82.308515\n",
       "2000-03-16     60.977436\n",
       "2000-03-17     70.726503\n",
       "2001-01-11     60.334040\n",
       "2001-10-12     69.304849\n",
       "2001-10-15     68.551093\n",
       "Name: Close, dtype: float64"
      ]
     },
     "execution_count": 26,
     "metadata": {},
     "output_type": "execute_result"
    }
   ],
   "source": [
    "(stock[gain_boolean_mask] - rol_min[gain_boolean_mask]) \\\n",
    "    / rol_min[gain_boolean_mask] * 100"
   ]
  },
  {
   "cell_type": "markdown",
   "metadata": {
    "deletable": true,
    "editable": true
   },
   "source": [
    "## Question 5"
   ]
  },
  {
   "cell_type": "markdown",
   "metadata": {
    "deletable": true,
    "editable": true
   },
   "source": [
    "### What was the **worst** possible \"buy&sell\" operation? Find the two days x and y so that the % loss resulting from buying in x and selling in y (with y after x) is maximized. Your code should work for any data. \n",
    "#### *Hint:* Use method cummax() or method cummin(). *Cummax/Cummax* returns the maximum/minimum value encountered so far. Make sure to return the trading days x and y, as well as the % loss resulting from buying in x and selling in y.\n",
    "#### (Fill in blank for the buying and selling dates in Camino with the format 'buying-date/selling-date' (for example, 2001-01-01/2010-12-31)"
   ]
  },
  {
   "cell_type": "markdown",
   "metadata": {
    "deletable": true,
    "editable": true
   },
   "source": [
    "<div class=\"alert alert-block alert-success\"> Solution Note </div>"
   ]
  },
  {
   "cell_type": "markdown",
   "metadata": {
    "deletable": true,
    "editable": true
   },
   "source": [
    "**Solution Note** . Need to 'buy'(high) first, then 'sell'(low) later. High need to be historic high. .cummax will hold the highest price history, So the cummax will be the buying date and current be the selling date. When use .cummax, should be (cummax - current)/current if take .nlargest(1), then that's our selling date info."
   ]
  },
  {
   "cell_type": "markdown",
   "metadata": {
    "deletable": true,
    "editable": true
   },
   "source": [
    "### Use cummax()"
   ]
  },
  {
   "cell_type": "markdown",
   "metadata": {
    "deletable": true,
    "editable": true
   },
   "source": [
    "Need to buy high then sell low. Buy need to happen first. High need to be historic high, so use cummax() without flipping the date."
   ]
  },
  {
   "cell_type": "code",
   "execution_count": 27,
   "metadata": {
    "collapsed": false,
    "deletable": true,
    "editable": true
   },
   "outputs": [
    {
     "data": {
      "text/plain": [
       "Date\n",
       "1999-01-22    1.640625\n",
       "1999-01-25    1.812500\n",
       "1999-01-26    1.671875\n",
       "1999-01-27    1.666667\n",
       "1999-01-28    1.661458\n",
       "Name: Close, dtype: float64"
      ]
     },
     "execution_count": 27,
     "metadata": {},
     "output_type": "execute_result"
    },
    {
     "data": {
      "text/plain": [
       "Date\n",
       "1999-01-22    1.640625\n",
       "1999-01-25    1.812500\n",
       "1999-01-26    1.812500\n",
       "1999-01-27    1.812500\n",
       "1999-01-28    1.812500\n",
       "Name: Close, dtype: float64"
      ]
     },
     "execution_count": 27,
     "metadata": {},
     "output_type": "execute_result"
    }
   ],
   "source": [
    "stock[:5]\n",
    "stock.cummax()[:5]"
   ]
  },
  {
   "cell_type": "code",
   "execution_count": 28,
   "metadata": {
    "collapsed": true,
    "deletable": true,
    "editable": true
   },
   "outputs": [],
   "source": [
    "max_from_now = stock.cummax()"
   ]
  },
  {
   "cell_type": "markdown",
   "metadata": {
    "deletable": true,
    "editable": true
   },
   "source": [
    "To get the selling date y1 .."
   ]
  },
  {
   "cell_type": "code",
   "execution_count": 29,
   "metadata": {
    "collapsed": false,
    "deletable": true,
    "editable": true
   },
   "outputs": [
    {
     "data": {
      "text/plain": [
       "Timestamp('2002-10-09 00:00:00')"
      ]
     },
     "execution_count": 29,
     "metadata": {},
     "output_type": "execute_result"
    }
   ],
   "source": [
    "y1 = ((max_from_now - stock)/ stock).nlargest(1).index[0]\n",
    "y1"
   ]
  },
  {
   "cell_type": "markdown",
   "metadata": {
    "deletable": true,
    "editable": true
   },
   "source": [
    "Or .."
   ]
  },
  {
   "cell_type": "code",
   "execution_count": 30,
   "metadata": {
    "collapsed": false,
    "deletable": true,
    "editable": true
   },
   "outputs": [
    {
     "data": {
      "text/plain": [
       "Timestamp('2002-10-09 00:00:00')"
      ]
     },
     "execution_count": 30,
     "metadata": {},
     "output_type": "execute_result"
    },
    {
     "data": {
      "text/plain": [
       "2.456667"
      ]
     },
     "execution_count": 30,
     "metadata": {},
     "output_type": "execute_result"
    }
   ],
   "source": [
    "y1 = ((stock - max_from_now)/ stock).nsmallest(1).index[0]\n",
    "y1\n",
    "stock[y1]"
   ]
  },
  {
   "cell_type": "markdown",
   "metadata": {
    "deletable": true,
    "editable": true
   },
   "source": [
    "To get the buying date x1 .."
   ]
  },
  {
   "cell_type": "code",
   "execution_count": 31,
   "metadata": {
    "collapsed": false,
    "deletable": true,
    "editable": true
   },
   "outputs": [
    {
     "data": {
      "text/plain": [
       "Timestamp('2002-01-03 00:00:00')"
      ]
     },
     "execution_count": 31,
     "metadata": {},
     "output_type": "execute_result"
    },
    {
     "data": {
      "text/plain": [
       "23.903334"
      ]
     },
     "execution_count": 31,
     "metadata": {},
     "output_type": "execute_result"
    }
   ],
   "source": [
    "x1 = stock[stock == max_from_now[y1]].index[0]\n",
    "x1\n",
    "stock[x1]"
   ]
  },
  {
   "cell_type": "code",
   "execution_count": 32,
   "metadata": {
    "collapsed": false,
    "deletable": true,
    "editable": true
   },
   "outputs": [
    {
     "name": "stdout",
     "output_type": "stream",
     "text": [
      "The worst buy & sell combination is:\n",
      "\n",
      "First buy on 2002-01-03 00:00:00, when the price was 23.903334\n",
      "Then sell on 2002-10-09 00:00:00, when the price was 2.456667\n",
      "The loss is 89.72249226823338%\n"
     ]
    }
   ],
   "source": [
    "print('The worst buy & sell combination is:\\n')\n",
    "print('First buy on ' + str(x1) +', when the price was ' + \n",
    "      str(stock[x1]))\n",
    "print('Then sell on ' + str(y1) +', when the price was ' +\n",
    "      str(stock[y1]))\n",
    "print('The loss is ' + str((stock[x1] - stock[y1]) * 100 / stock[x1]) + \n",
    "      '%')"
   ]
  },
  {
   "cell_type": "markdown",
   "metadata": {
    "deletable": true,
    "editable": true
   },
   "source": [
    "### Use cummin()"
   ]
  },
  {
   "cell_type": "markdown",
   "metadata": {
    "deletable": true,
    "editable": true
   },
   "source": [
    "<div class=\"alert alert-block alert-success\"> Solution Note </div>"
   ]
  },
  {
   "cell_type": "markdown",
   "metadata": {
    "deletable": true,
    "editable": true
   },
   "source": [
    "**Solution Notes**: Buy high then sell low.\n",
    "If use .cummin(). Need to know lowest in the future, so need to flip the stock, most recent dated first. If don't flip, .cummin() will return the 'history' low, which is not helpful.\n",
    "\n",
    "After know the future low, so \"(current-future low)/current\" will be the delta, then take .nlargest(1), that will be our buying date. "
   ]
  },
  {
   "cell_type": "markdown",
   "metadata": {
    "deletable": true,
    "editable": true
   },
   "source": [
    "Sort from the last day to the first, and for each day compute cummin: in this way, for each trading day x we compute the minimum price on or after day x"
   ]
  },
  {
   "cell_type": "code",
   "execution_count": 33,
   "metadata": {
    "collapsed": true,
    "deletable": true,
    "editable": true
   },
   "outputs": [],
   "source": [
    "minimum_from_now_on = stock.sort_index(ascending=False).cummin()"
   ]
  },
  {
   "cell_type": "code",
   "execution_count": 34,
   "metadata": {
    "collapsed": false,
    "deletable": true,
    "editable": true
   },
   "outputs": [
    {
     "data": {
      "text/plain": [
       "Date\n",
       "2019-01-29    131.600006\n",
       "2019-01-28    138.009995\n",
       "2019-01-25    160.149994\n",
       "2019-01-24    157.839996\n",
       "2019-01-23    149.289993\n",
       "Name: Close, dtype: float64"
      ]
     },
     "execution_count": 34,
     "metadata": {},
     "output_type": "execute_result"
    }
   ],
   "source": [
    "stock.sort_index(ascending=False)[:5]"
   ]
  },
  {
   "cell_type": "code",
   "execution_count": 35,
   "metadata": {
    "collapsed": false,
    "deletable": true,
    "editable": true
   },
   "outputs": [
    {
     "data": {
      "text/plain": [
       "Date\n",
       "2019-01-29    131.600006\n",
       "2019-01-28    131.600006\n",
       "2019-01-25    131.600006\n",
       "2019-01-24    131.600006\n",
       "2019-01-23    131.600006\n",
       "Name: Close, dtype: float64"
      ]
     },
     "execution_count": 35,
     "metadata": {},
     "output_type": "execute_result"
    }
   ],
   "source": [
    "minimum_from_now_on[:5]"
   ]
  },
  {
   "cell_type": "markdown",
   "metadata": {
    "deletable": true,
    "editable": true
   },
   "source": [
    "Find the trading day x where buying in x and selling at the worst future day maximimizes the loss"
   ]
  },
  {
   "cell_type": "code",
   "execution_count": 36,
   "metadata": {
    "collapsed": false,
    "deletable": true,
    "editable": true
   },
   "outputs": [
    {
     "data": {
      "text/plain": [
       "Timestamp('2002-01-03 00:00:00')"
      ]
     },
     "execution_count": 36,
     "metadata": {},
     "output_type": "execute_result"
    },
    {
     "data": {
      "text/plain": [
       "23.903334"
      ]
     },
     "execution_count": 36,
     "metadata": {},
     "output_type": "execute_result"
    }
   ],
   "source": [
    "x = ((stock - minimum_from_now_on) / stock).nlargest(1).index[0]\n",
    "x\n",
    "stock[x]"
   ]
  },
  {
   "cell_type": "markdown",
   "metadata": {
    "deletable": true,
    "editable": true
   },
   "source": [
    "Find the trading day y when to sell"
   ]
  },
  {
   "cell_type": "code",
   "execution_count": 37,
   "metadata": {
    "collapsed": false,
    "deletable": true,
    "editable": true
   },
   "outputs": [
    {
     "data": {
      "text/plain": [
       "Timestamp('2002-10-09 00:00:00')"
      ]
     },
     "execution_count": 37,
     "metadata": {},
     "output_type": "execute_result"
    },
    {
     "data": {
      "text/plain": [
       "2.456667"
      ]
     },
     "execution_count": 37,
     "metadata": {},
     "output_type": "execute_result"
    }
   ],
   "source": [
    "y = stock[stock == minimum_from_now_on[x]].index[0]\n",
    "y\n",
    "stock[y]"
   ]
  },
  {
   "cell_type": "code",
   "execution_count": 38,
   "metadata": {
    "collapsed": false,
    "deletable": true,
    "editable": true
   },
   "outputs": [
    {
     "name": "stdout",
     "output_type": "stream",
     "text": [
      "The worst buy & sell coombination is:\n",
      "\n",
      "First buy on 2002-01-03 00:00:00, when the price was 23.903334\n",
      "Then sell on 2002-10-09 00:00:00, when the price was 2.456667\n",
      "The loss is 89.72249226823338%\n"
     ]
    }
   ],
   "source": [
    "print('The worst buy & sell coombination is:\\n')\n",
    "print('First buy on ' + str(x) +', when the price was ' + \n",
    "          str(stock[x]))\n",
    "print('Then sell on ' + str(y) +', when the price was ' + \n",
    "          str(stock[y]))\n",
    "print('The loss is ' + str((stock[x] - stock[y]) * 100 / stock[x]) + '%')"
   ]
  },
  {
   "cell_type": "code",
   "execution_count": null,
   "metadata": {
    "collapsed": true,
    "deletable": true,
    "editable": true
   },
   "outputs": [],
   "source": []
  }
 ],
 "metadata": {
  "kernelspec": {
   "display_name": "Python 3",
   "language": "python",
   "name": "python3"
  },
  "language_info": {
   "codemirror_mode": {
    "name": "ipython",
    "version": 3
   },
   "file_extension": ".py",
   "mimetype": "text/x-python",
   "name": "python",
   "nbconvert_exporter": "python",
   "pygments_lexer": "ipython3",
   "version": "3.7.1"
  }
 },
 "nbformat": 4,
 "nbformat_minor": 1
}
