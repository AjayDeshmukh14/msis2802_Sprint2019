{
 "cells": [
  {
   "cell_type": "markdown",
   "metadata": {
    "deletable": true,
    "editable": true
   },
   "source": [
    "# HW 1 - Sentiment Analysis on Tweeter with key word(Trump) "
   ]
  },
  {
   "cell_type": "code",
   "execution_count": 10,
   "metadata": {
    "collapsed": true,
    "deletable": true,
    "editable": true
   },
   "outputs": [],
   "source": [
    "# print all the outputs in a cell\n",
    "from IPython.core.interactiveshell import InteractiveShell\n",
    "InteractiveShell.ast_node_interactivity = \"all\""
   ]
  },
  {
   "cell_type": "markdown",
   "metadata": {
    "deletable": true,
    "editable": true
   },
   "source": [
    "<div class=\"alert alert-block alert-info\">\n",
    "Create 1 list: tweet and 3 dictionary: positive, negative, stopwords\n",
    "</div>"
   ]
  },
  {
   "cell_type": "markdown",
   "metadata": {
    "deletable": true,
    "editable": true
   },
   "source": [
    "### List 1 - Tweet"
   ]
  },
  {
   "cell_type": "code",
   "execution_count": 11,
   "metadata": {
    "collapsed": false,
    "deletable": true,
    "editable": true
   },
   "outputs": [
    {
     "data": {
      "text/plain": [
       "46907"
      ]
     },
     "execution_count": 11,
     "metadata": {},
     "output_type": "execute_result"
    }
   ],
   "source": [
    "tweets =[]\n",
    "f = open('Trump.txt', 'r')\n",
    "for w in f:\n",
    "    w = w.lower()\n",
    "    w = w.strip()\n",
    "    w = w.replace('@','').replace(':','').replace('?','').replace(',','').replace('.',\n",
    "        '').replace('rt','').replace('(','').replace(')','')\n",
    "    for w in w.split():\n",
    "        tweets.append(w)\n",
    "len(tweets)\n",
    "f.close()"
   ]
  },
  {
   "cell_type": "markdown",
   "metadata": {
    "deletable": true,
    "editable": true
   },
   "source": [
    "### Use Dictionary instead of List to improve the effieiency"
   ]
  },
  {
   "cell_type": "markdown",
   "metadata": {
    "deletable": true,
    "editable": true
   },
   "source": [
    "### Dictionary 1 - Positive "
   ]
  },
  {
   "cell_type": "code",
   "execution_count": 12,
   "metadata": {
    "collapsed": false,
    "deletable": true,
    "editable": true
   },
   "outputs": [
    {
     "data": {
      "text/plain": [
       "2006"
      ]
     },
     "execution_count": 12,
     "metadata": {},
     "output_type": "execute_result"
    }
   ],
   "source": [
    "positive = {}\n",
    "f = open('positive.txt', 'r')\n",
    "for w in f:\n",
    "    w = w.strip()\n",
    "    positive[w] = 0\n",
    "len(positive)\n",
    "#positive\n",
    "f.close()\n"
   ]
  },
  {
   "cell_type": "markdown",
   "metadata": {
    "deletable": true,
    "editable": true
   },
   "source": [
    "### Dictionary 2 - Negative"
   ]
  },
  {
   "cell_type": "code",
   "execution_count": 13,
   "metadata": {
    "collapsed": false,
    "deletable": true,
    "editable": true
   },
   "outputs": [
    {
     "data": {
      "text/plain": [
       "4783"
      ]
     },
     "execution_count": 13,
     "metadata": {},
     "output_type": "execute_result"
    }
   ],
   "source": [
    "negative = {}\n",
    "f = open('negative.txt', 'r')\n",
    "for w in f:\n",
    "    w = w.strip()\n",
    "    negative[w] = 0\n",
    "len(negative)\n",
    "f.close()"
   ]
  },
  {
   "cell_type": "markdown",
   "metadata": {
    "deletable": true,
    "editable": true
   },
   "source": [
    "### Dictionary 3 - Stopword"
   ]
  },
  {
   "cell_type": "code",
   "execution_count": 14,
   "metadata": {
    "collapsed": false,
    "deletable": true,
    "editable": true
   },
   "outputs": [
    {
     "data": {
      "text/plain": [
       "319"
      ]
     },
     "execution_count": 14,
     "metadata": {},
     "output_type": "execute_result"
    }
   ],
   "source": [
    "stopword = {}\n",
    "f = open('stopword.txt', 'r')\n",
    "for w in f:\n",
    "    w = w.strip()\n",
    "    stopword[w] = 0\n",
    "len(stopword)\n",
    "f.close()"
   ]
  },
  {
   "cell_type": "markdown",
   "metadata": {
    "deletable": true,
    "editable": true
   },
   "source": [
    "### Compare the words in tweet with 3 Dictionaries - positive, negative and stopword\n"
   ]
  },
  {
   "cell_type": "markdown",
   "metadata": {
    "deletable": true,
    "editable": true
   },
   "source": [
    "A dictionary is a lookup, while a list is an iteration. Dictionary uses a hash lookup, while  list requires walking through the list until it finds the result from beginning to the result each time. So a dictionary lookup will be much faster than a list walk through."
   ]
  },
  {
   "cell_type": "code",
   "execution_count": 15,
   "metadata": {
    "collapsed": true,
    "deletable": true,
    "editable": true
   },
   "outputs": [],
   "source": [
    "count_s = 0\n",
    "count_p = 0\n",
    "count_n = 0\n",
    "count_g = 0"
   ]
  },
  {
   "cell_type": "code",
   "execution_count": 16,
   "metadata": {
    "collapsed": false,
    "deletable": true,
    "editable": true
   },
   "outputs": [
    {
     "name": "stdout",
     "output_type": "stream",
     "text": [
      "positive word count = 957 \n",
      "negative word count = 1569 \n",
      "stopword word count = 17658 \n",
      "general word count = 26723 \n",
      "total word count = 46907 \n",
      "==========================================\n",
      "positive vs nagative ratio = 0.609943\n"
     ]
    }
   ],
   "source": [
    "for w in tweets:\n",
    "    if (w in positive) & (w !='trump'):\n",
    "        count_p += 1\n",
    "    elif w in negative:\n",
    "        count_n += 1\n",
    "    elif w in stopword:\n",
    "        count_s += 1\n",
    "    else:\n",
    "        count_g += 1\n",
    "        \n",
    "print (\"positive word count = %d \" % count_p)\n",
    "print (\"negative word count = %d \" % count_n)\n",
    "print (\"stopword word count = %d \" % count_s)\n",
    "print (\"general word count = %d \" % count_g)\n",
    "print (\"total word count = %d \" % (count_p + count_n + count_s + count_g))\n",
    "print ('==========================================')\n",
    "print ('positive vs nagative ratio = %f' % (float(count_p)/count_n))"
   ]
  },
  {
   "cell_type": "markdown",
   "metadata": {
    "deletable": true,
    "editable": true
   },
   "source": [
    "### Extra note: Hashing / Hash Table"
   ]
  },
  {
   "cell_type": "markdown",
   "metadata": {
    "deletable": true,
    "editable": true
   },
   "source": [
    "*index = f(key, array_size)*\n",
    "\n",
    "Often this is done in two steps:\n",
    "\n",
    "*hash = hashfunc(key)*\n",
    "\n",
    "*index = hash % array_size*\n",
    "\n",
    "See https://en.wikipedia.org/wiki/Hash_table for more detail."
   ]
  },
  {
   "cell_type": "markdown",
   "metadata": {
    "deletable": true,
    "editable": true
   },
   "source": [
    "\n",
    "\n",
    "\n",
    "\n",
    "\n",
    "\n",
    "\n",
    "\n",
    "\n",
    "\n",
    "\n",
    "\n",
    "\n",
    "\n"
   ]
  }
 ],
 "metadata": {
  "kernelspec": {
   "display_name": "Python 3",
   "language": "python",
   "name": "python3"
  },
  "language_info": {
   "codemirror_mode": {
    "name": "ipython",
    "version": 3
   },
   "file_extension": ".py",
   "mimetype": "text/x-python",
   "name": "python",
   "nbconvert_exporter": "python",
   "pygments_lexer": "ipython3",
   "version": "3.7.1"
  }
 },
 "nbformat": 4,
 "nbformat_minor": 1
}
