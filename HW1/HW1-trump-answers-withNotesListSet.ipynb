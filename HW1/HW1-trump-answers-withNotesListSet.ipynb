{
 "cells": [
  {
   "cell_type": "markdown",
   "metadata": {},
   "source": [
    "# HW 1 - Sentiment Analysis on Tweeter with key word(Trump) "
   ]
  },
  {
   "cell_type": "code",
   "execution_count": 1,
   "metadata": {},
   "outputs": [],
   "source": [
    "# print all the outputs in a cell\n",
    "from IPython.core.interactiveshell import InteractiveShell\n",
    "InteractiveShell.ast_node_interactivity = \"all\""
   ]
  },
  {
   "cell_type": "markdown",
   "metadata": {},
   "source": [
    "<div class=\"alert alert-block alert-info\">\n",
    "Create 4 different lists: tweet, positive, negative, stopwords\n",
    "</div>"
   ]
  },
  {
   "cell_type": "markdown",
   "metadata": {},
   "source": [
    "### List 1 - Tweet"
   ]
  },
  {
   "cell_type": "code",
   "execution_count": 2,
   "metadata": {},
   "outputs": [
    {
     "data": {
      "text/plain": [
       "['travisallen02',\n",
       " 'breaking',\n",
       " 'steve',\n",
       " 'bannon’s',\n",
       " 'new',\n",
       " 'book',\n",
       " 'entitled',\n",
       " '“fire',\n",
       " 'and',\n",
       " 'fury”',\n",
       " 'says',\n",
       " 'that',\n",
       " 'bannon',\n",
       " 'called',\n",
       " 'traitor',\n",
       " 'donaldjtrumpjr’s',\n",
       " 'meeting',\n",
       " 'wit…',\n",
       " 'maybe',\n",
       " 'most']"
      ]
     },
     "execution_count": 2,
     "metadata": {},
     "output_type": "execute_result"
    },
    {
     "data": {
      "text/plain": [
       "46743"
      ]
     },
     "execution_count": 2,
     "metadata": {},
     "output_type": "execute_result"
    }
   ],
   "source": [
    "tweets = []\n",
    "f = open('Trump.txt', 'r')\n",
    "for w in f:\n",
    "    w = w.lower()\n",
    "    w = w.strip()\n",
    "    w = w.replace('@','').replace(':','').replace('.', '').\\\n",
    "        replace(',','').replace('rt ','').replace('?','')\n",
    "    for w in w.split():\n",
    "        tweets.append(w)\n",
    "tweets[:20]\n",
    "len(tweets)\n",
    "f.close()"
   ]
  },
  {
   "cell_type": "markdown",
   "metadata": {},
   "source": [
    "### List 2 - Positive "
   ]
  },
  {
   "cell_type": "code",
   "execution_count": 3,
   "metadata": {},
   "outputs": [
    {
     "data": {
      "text/plain": [
       "2006"
      ]
     },
     "execution_count": 3,
     "metadata": {},
     "output_type": "execute_result"
    },
    {
     "data": {
      "text/plain": [
       "['a+',\n",
       " 'abound',\n",
       " 'abounds',\n",
       " 'abundance',\n",
       " 'abundant',\n",
       " 'accessable',\n",
       " 'accessible',\n",
       " 'acclaim',\n",
       " 'acclaimed',\n",
       " 'acclamation',\n",
       " 'accolade',\n",
       " 'accolades',\n",
       " 'accommodative',\n",
       " 'accomodative',\n",
       " 'accomplish',\n",
       " 'accomplished',\n",
       " 'accomplishment',\n",
       " 'accomplishments',\n",
       " 'accurate',\n",
       " 'accurately']"
      ]
     },
     "execution_count": 3,
     "metadata": {},
     "output_type": "execute_result"
    }
   ],
   "source": [
    "positive = []\n",
    "f = open('positive.txt', 'r')\n",
    "for w in f:\n",
    "    w = w.lower()\n",
    "    w = w.strip()\n",
    "    positive.append(w)\n",
    "len(positive)\n",
    "positive[:20]\n",
    "f.close()"
   ]
  },
  {
   "cell_type": "markdown",
   "metadata": {},
   "source": [
    "### List 3 - Negative"
   ]
  },
  {
   "cell_type": "code",
   "execution_count": 4,
   "metadata": {},
   "outputs": [
    {
     "data": {
      "text/plain": [
       "4783"
      ]
     },
     "execution_count": 4,
     "metadata": {},
     "output_type": "execute_result"
    },
    {
     "data": {
      "text/plain": [
       "['2-faced',\n",
       " '2-faces',\n",
       " 'abnormal',\n",
       " 'abolish',\n",
       " 'abominable',\n",
       " 'abominably',\n",
       " 'abominate',\n",
       " 'abomination',\n",
       " 'abort',\n",
       " 'aborted',\n",
       " 'aborts',\n",
       " 'abrade',\n",
       " 'abrasive',\n",
       " 'abrupt',\n",
       " 'abruptly',\n",
       " 'abscond',\n",
       " 'absence',\n",
       " 'absent-minded',\n",
       " 'absentee',\n",
       " 'absurd']"
      ]
     },
     "execution_count": 4,
     "metadata": {},
     "output_type": "execute_result"
    }
   ],
   "source": [
    "negative = []\n",
    "f = open('negative.txt', 'r')\n",
    "for w in f:\n",
    "    w = w.lower()\n",
    "    w = w.strip()\n",
    "    negative.append(w)\n",
    "len(negative)\n",
    "negative[:20]\n",
    "f.close()"
   ]
  },
  {
   "cell_type": "markdown",
   "metadata": {},
   "source": [
    "### List 4 - Stopword"
   ]
  },
  {
   "cell_type": "code",
   "execution_count": 5,
   "metadata": {},
   "outputs": [
    {
     "data": {
      "text/plain": [
       "319"
      ]
     },
     "execution_count": 5,
     "metadata": {},
     "output_type": "execute_result"
    },
    {
     "data": {
      "text/plain": [
       "['a',\n",
       " 'about',\n",
       " 'above',\n",
       " 'across',\n",
       " 'after',\n",
       " 'afterwards',\n",
       " 'again',\n",
       " 'against',\n",
       " 'all',\n",
       " 'almost',\n",
       " 'alone',\n",
       " 'along',\n",
       " 'already',\n",
       " 'also',\n",
       " 'although',\n",
       " 'always',\n",
       " 'am',\n",
       " 'among',\n",
       " 'amongst',\n",
       " 'amoungst']"
      ]
     },
     "execution_count": 5,
     "metadata": {},
     "output_type": "execute_result"
    }
   ],
   "source": [
    "stopword = []\n",
    "f = open('stopword.txt', 'r')\n",
    "for w in f:\n",
    "    w = w.lower()\n",
    "    w = w.strip()\n",
    "    stopword.append(w)\n",
    "len(stopword)\n",
    "stopword[:20]\n",
    "f.close()"
   ]
  },
  {
   "cell_type": "markdown",
   "metadata": {},
   "source": [
    "### Compare the words in tweets with list - positive, negative and stopword"
   ]
  },
  {
   "cell_type": "code",
   "execution_count": 6,
   "metadata": {
    "scrolled": true
   },
   "outputs": [
    {
     "name": "stdout",
     "output_type": "stream",
     "text": [
      "positive word count = 2646 \n",
      "negative word count = 1579 \n",
      "stopword word count = 17562 \n",
      "others word count = 24956 \n",
      "===================================\n",
      "positive vs negative ratio = 1.68 \n"
     ]
    }
   ],
   "source": [
    "count_s = 0\n",
    "count_n = 0\n",
    "count_p = 0\n",
    "count_g = 0\n",
    "\n",
    "for w in tweets:\n",
    "    if w in positive:\n",
    "        count_p += 1\n",
    "    elif w in negative:\n",
    "        count_n += 1\n",
    "    elif w in stopword:\n",
    "        count_s += 1\n",
    "    else:\n",
    "        count_g += 1\n",
    "\n",
    "print (\"positive word count = %d \" % count_p)\n",
    "print (\"negative word count = %d \" % count_n)\n",
    "print (\"stopword word count = %d \" % count_s)\n",
    "print (\"others word count = %d \" % count_g)\n",
    "\n",
    "print (\"===================================\")\n",
    "print ('positive vs negative ratio = %.2f ' % (count_p/count_n) )\n"
   ]
  },
  {
   "cell_type": "markdown",
   "metadata": {},
   "source": [
    "### Same routine but now we convert the *list* into a *set*. The look up in *set*  is much faster than *list*. Observe the execution time difference(in almost the same code as above but with 3 sets instead of 3 lists). "
   ]
  },
  {
   "cell_type": "code",
   "execution_count": 7,
   "metadata": {},
   "outputs": [
    {
     "data": {
      "text/plain": [
       "set"
      ]
     },
     "execution_count": 7,
     "metadata": {},
     "output_type": "execute_result"
    },
    {
     "data": {
      "text/plain": [
       "set"
      ]
     },
     "execution_count": 7,
     "metadata": {},
     "output_type": "execute_result"
    },
    {
     "data": {
      "text/plain": [
       "set"
      ]
     },
     "execution_count": 7,
     "metadata": {},
     "output_type": "execute_result"
    }
   ],
   "source": [
    "positive_set=set(positive)\n",
    "negative_set=set(negative)\n",
    "stopword_set=set(stopword)\n",
    "type(positive_set)\n",
    "type(negative_set)\n",
    "type(stopword_set)"
   ]
  },
  {
   "cell_type": "code",
   "execution_count": 8,
   "metadata": {
    "scrolled": true
   },
   "outputs": [
    {
     "name": "stdout",
     "output_type": "stream",
     "text": [
      "positive word count = 2646 \n",
      "negative word count = 1579 \n",
      "stopword word count = 17562 \n",
      "others word count = 24956 \n",
      "===================================\n",
      "positive vs negative ratio = 1.68 \n"
     ]
    }
   ],
   "source": [
    "count_s = 0\n",
    "count_n = 0\n",
    "count_p = 0\n",
    "count_g = 0\n",
    "\n",
    "for w in tweets:\n",
    "    if w in positive_set:\n",
    "        count_p += 1\n",
    "    elif w in negative_set:\n",
    "        count_n += 1\n",
    "    elif w in stopword_set:\n",
    "        count_s += 1\n",
    "    else:\n",
    "        count_g += 1\n",
    "\n",
    "print (\"positive word count = %d \" % count_p)\n",
    "print (\"negative word count = %d \" % count_n)\n",
    "print (\"stopword word count = %d \" % count_s)\n",
    "print (\"others word count = %d \" % count_g)\n",
    "\n",
    "print (\"===================================\")\n",
    "print ('positive vs negative ratio = %.2f ' % (count_p/count_n) )\n"
   ]
  },
  {
   "cell_type": "markdown",
   "metadata": {},
   "source": [
    "### Alan's Note :  Or use .isalpha() in Python3\n"
   ]
  },
  {
   "cell_type": "code",
   "execution_count": null,
   "metadata": {},
   "outputs": [],
   "source": [
    "# piece of code sample (not for execution)\n",
    "\n",
    "for word in f:\n",
    "word = re.sub(r'[^\\w\\s]','',word).lower()  \n",
    "# remove punctuations (.,;'), make it all lowercase\n",
    "if word.isalpha():                         \n",
    "    # check that it is a word, if not, skip\n",
    "    if word in p_list:\n",
    "        count_p += 1\n",
    "    elif word in n_list:m\n",
    "        count_n += 1\n",
    "    elif word in s_list:\n",
    "        count_s += 1\n",
    "    else:\n",
    "        count_g += 1\n",
    "    count_all += 1\n",
    "else:\n",
    "    count_rejected += 1\n",
    "    continue\n",
    "    "
   ]
  },
  {
   "cell_type": "markdown",
   "metadata": {
    "collapsed": true
   },
   "source": [
    "## Conclusion: "
   ]
  },
  {
   "cell_type": "markdown",
   "metadata": {},
   "source": [
    "VERY Positive trend of keyword 'Trump'"
   ]
  },
  {
   "cell_type": "markdown",
   "metadata": {},
   "source": [
    "\n",
    "\n",
    "\n",
    "\n",
    "\n",
    "\n",
    "\n",
    "\n",
    "\n",
    "\n",
    "\n",
    "\n",
    "\n",
    "\n"
   ]
  },
  {
   "cell_type": "markdown",
   "metadata": {
    "collapsed": true
   },
   "source": [
    "## Or is it really correct ?"
   ]
  },
  {
   "cell_type": "code",
   "execution_count": 10,
   "metadata": {},
   "outputs": [
    {
     "data": {
      "text/plain": [
       "True"
      ]
     },
     "execution_count": 10,
     "metadata": {},
     "output_type": "execute_result"
    }
   ],
   "source": [
    "'trump' in positive"
   ]
  },
  {
   "cell_type": "markdown",
   "metadata": {},
   "source": [
    "So 'trump' is a positive word !!! which will bias our analysis a lot !"
   ]
  },
  {
   "cell_type": "code",
   "execution_count": 11,
   "metadata": {},
   "outputs": [
    {
     "name": "stdout",
     "output_type": "stream",
     "text": [
      "word 'trump' word count = 1663\n",
      "The corrected positive word count reduced from 2646 to 983\n",
      "=========================================\n",
      "negative word count = 1579\n",
      "positive word count(corrected) = 983\n",
      "corrected positive vs negative ratio  = 0.62\n"
     ]
    }
   ],
   "source": [
    "count_trump = 0\n",
    "count_p_corrected = 0\n",
    "\n",
    "for w in tweets:\n",
    "    if (w in positive) & (w == 'trump'):\n",
    "        count_trump += 1\n",
    "print ('word \\'trump\\' word count = %d' % count_trump)\n",
    "\n",
    "count_p_corrected = count_p - count_trump\n",
    "print ('The corrected positive word count reduced from %d to %d' % \\\n",
    "       (count_p, count_p_corrected) )\n",
    "print ('=========================================')\n",
    "print ('negative word count = %d' % count_n)\n",
    "print ('positive word count(corrected) = %d' % count_p_corrected)\n",
    "\n",
    "print ('corrected positive vs negative ratio  = %.2f' % \\\n",
    "       (count_p_corrected/count_n) )"
   ]
  },
  {
   "cell_type": "markdown",
   "metadata": {},
   "source": [
    "## Conclusion:\n",
    "* Very Negative sentiment in Trump related tweets !\n"
   ]
  },
  {
   "cell_type": "markdown",
   "metadata": {},
   "source": [
    "### More checking - duplication in positive/negative/stopwords"
   ]
  },
  {
   "cell_type": "code",
   "execution_count": 12,
   "metadata": {},
   "outputs": [
    {
     "name": "stdout",
     "output_type": "stream",
     "text": [
      "word in both neg and stop - cry \n",
      "word in both pos and stop - enough \n",
      "word in both pos and stop - sincere \n",
      "word in both pos and stop - top \n",
      "word in both pos and stop - well \n"
     ]
    }
   ],
   "source": [
    "for w in stopword:\n",
    "    if w in positive:\n",
    "        print('word in both pos and stop - %s ' % str(w) )\n",
    "    elif w in negative:\n",
    "        print('word in both neg and stop - %s ' % str(w) )    \n",
    "        "
   ]
  },
  {
   "cell_type": "code",
   "execution_count": 13,
   "metadata": {},
   "outputs": [
    {
     "name": "stdout",
     "output_type": "stream",
     "text": [
      "word in both pos and neg - envious \n",
      "word in both pos and neg - enviously \n",
      "word in both pos and neg - enviousness \n"
     ]
    }
   ],
   "source": [
    "for w in positive:\n",
    "    if w in negative:\n",
    "        print('word in both pos and neg - %s ' % str(w) )"
   ]
  },
  {
   "cell_type": "markdown",
   "metadata": {},
   "source": [
    "### It will be your call to do further actions while counting the positive/negative/stopwords or just treat them as \"noise\" if your data sample is large enough. "
   ]
  }
 ],
 "metadata": {
  "kernelspec": {
   "display_name": "Python 3",
   "language": "python",
   "name": "python3"
  },
  "language_info": {
   "codemirror_mode": {
    "name": "ipython",
    "version": 3
   },
   "file_extension": ".py",
   "mimetype": "text/x-python",
   "name": "python",
   "nbconvert_exporter": "python",
   "pygments_lexer": "ipython3",
   "version": "3.6.5"
  }
 },
 "nbformat": 4,
 "nbformat_minor": 1
}
